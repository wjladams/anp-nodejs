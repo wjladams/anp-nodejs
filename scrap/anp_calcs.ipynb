{
 "cells": [
  {
   "cell_type": "code",
   "execution_count": 1,
   "metadata": {},
   "outputs": [
    {
     "name": "stdout",
     "output_type": "stream",
     "text": [
      "Hello\n"
     ]
    }
   ],
   "source": [
    "console.log(\"Hello\")"
   ]
  },
  {
   "cell_type": "code",
   "execution_count": 75,
   "metadata": {},
   "outputs": [],
   "source": [
    "function zeromat_col_mult(nrows, ncols) {\n",
    "    let rval = []\n",
    "    for (i=0; i < nrows; i++) {\n",
    "        let row = []\n",
    "        for (j=0; j < ncols; j++){\n",
    "            row.push(0)\n",
    "        }\n",
    "        rval.push(row)\n",
    "    }\n",
    "    return rval\n",
    "}\n",
    "\n",
    "function max_diff(vec1, vec2) {\n",
    "    let rval = -1\n",
    "    let tmp = 0\n",
    "    for(i=0; i < vec1.length; i++) {\n",
    "        tmp = Math.abs(vec1[i]-vec2[i])\n",
    "        if (tmp > rval) {\n",
    "            rval = tmp\n",
    "        }\n",
    "    }\n",
    "    return rval\n",
    "}\n",
    "\n",
    "function normalize_vec(vec) {\n",
    "    let sum = 0\n",
    "    for(i=0; i < vec.length; i++) {\n",
    "        sum += vec[i]\n",
    "    }\n",
    "    if (sum != 0) {\n",
    "        for(i=0; i < vec.length; i++) {\n",
    "            vec[i] /= sum\n",
    "        }\n",
    "    }\n",
    "}\n",
    "\n",
    "function largest_eigen(mat, err=1e-10, max_count=1000) {\n",
    "    let nrows = mat.length;\n",
    "    let ncols = mat[0].length;\n",
    "    if (nrows != ncols) {\n",
    "        throw \"Must be a square matrix\"\n",
    "    }\n",
    "    let next = col_vec(nrows, 1.0/nrows)\n",
    "    let last = col_vec(nrows, 0)\n",
    "    let md = 1\n",
    "    for(count=0; count < max_count; count++) {\n",
    "        md = max_diff(next, last)\n",
    "        if (max_diff(next, last) < err) {\n",
    "            return next\n",
    "        }\n",
    "        for(i=0; i < nrows; i++)\n",
    "            last[i]=next[i]\n",
    "        next = mat_col_mult(mat, last)        \n",
    "        normalize_vec(next)\n",
    "    }\n",
    "}\n",
    "\n",
    "function col_vec(size, def_val) {\n",
    "    let rval = []\n",
    "    for(i=0; i < size; i++)\n",
    "        rval.push(def_val)\n",
    "    return rval\n",
    "}\n",
    "\n",
    "function mat_col_mult(mat, col) {\n",
    "    let nrows = mat.length;\n",
    "    let ncols = mat[0].length;\n",
    "    let size = col.length;\n",
    "    if (size != ncols) {\n",
    "        throw \"Matrix mismatch\"\n",
    "    }\n",
    "    let rval = []\n",
    "    let tmp = 0\n",
    "    for(i=0; i < nrows; i++) {\n",
    "        tmp = 0\n",
    "        for(k=0; k < size; k++) {\n",
    "            tmp += mat[i][k] * col[k]\n",
    "        }\n",
    "        rval.push(tmp)\n",
    "    }\n",
    "    return rval\n",
    "}\n",
    "\n",
    "function idmat(size) {\n",
    "    let rval = zeromat(size, size)\n",
    "    for(i=0; i<size; i++) {\n",
    "        rval[i][i] = 1\n",
    "    }\n",
    "    return rval\n",
    "}\n",
    "\n",
    "function mmult(a, b) {\n",
    "    let anrows = a.length;\n",
    "    let ancols = a[0].length;\n",
    "    let bnrows = b.length;\n",
    "    let bncols = b[0].length;\n",
    "    console.log(bnrows+\" \"+ancols)\n",
    "    if (ancols !== bnrows) {\n",
    "        throw \"Array dimension mismatch\"\n",
    "    }\n",
    "    let rval = zeromat(anrows, bncols)\n",
    "    let tmp = 0\n",
    "    for(row=0; row < anrows; row++) {\n",
    "        for(col=0; col < bncols; col++) {\n",
    "            tmp = 0\n",
    "            for(k=0; k < ancols; k++) {\n",
    "                tmp += a[row][k] * b[k][col]\n",
    "            }\n",
    "            rval[row][col] = tmp\n",
    "        }\n",
    "    }\n",
    "    return rval\n",
    "}"
   ]
  },
  {
   "cell_type": "code",
   "execution_count": 76,
   "metadata": {},
   "outputs": [
    {
     "data": {
      "text/plain": [
       "[ [ 2, 1 ], [ 5, 0 ] ]"
      ]
     },
     "execution_count": 76,
     "metadata": {},
     "output_type": "execute_result"
    }
   ],
   "source": [
    "m1 = [\n",
    "    [1, 2],\n",
    "    [3, 4]\n",
    "]\n",
    "m2 = [\n",
    "    [2, 1],\n",
    "    [5, 0],\n",
    "]"
   ]
  },
  {
   "cell_type": "code",
   "execution_count": 77,
   "metadata": {},
   "outputs": [
    {
     "name": "stdout",
     "output_type": "stream",
     "text": [
      "2 2\n"
     ]
    },
    {
     "data": {
      "text/plain": [
       "[ [ 12, 1 ], [ 26, 3 ] ]"
      ]
     },
     "execution_count": 77,
     "metadata": {},
     "output_type": "execute_result"
    }
   ],
   "source": [
    "mmult(m1, m2)"
   ]
  },
  {
   "cell_type": "code",
   "execution_count": 78,
   "metadata": {},
   "outputs": [
    {
     "name": "stdout",
     "output_type": "stream",
     "text": [
      "2 2\n"
     ]
    },
    {
     "data": {
      "text/plain": [
       "[ [ 1, 2 ], [ 3, 4 ] ]"
      ]
     },
     "execution_count": 78,
     "metadata": {},
     "output_type": "execute_result"
    }
   ],
   "source": [
    "mmult(m1, idmat(2))"
   ]
  },
  {
   "cell_type": "code",
   "execution_count": 79,
   "metadata": {},
   "outputs": [
    {
     "data": {
      "text/plain": [
       "[ 0, 2 ]"
      ]
     },
     "execution_count": 79,
     "metadata": {},
     "output_type": "execute_result"
    }
   ],
   "source": [
    "mat_col_mult(m1, [2, -1])"
   ]
  },
  {
   "cell_type": "code",
   "execution_count": 80,
   "metadata": {},
   "outputs": [
    {
     "data": {
      "text/plain": [
       "[ -1.2, -1.2, -1.2, -1.2, -1.2 ]"
      ]
     },
     "execution_count": 80,
     "metadata": {},
     "output_type": "execute_result"
    }
   ],
   "source": [
    "col_vec(5, -1.2)"
   ]
  },
  {
   "cell_type": "code",
   "execution_count": 81,
   "metadata": {},
   "outputs": [
    {
     "data": {
      "text/plain": [
       "[ [ 1, 2 ], [ 3, 4 ] ]"
      ]
     },
     "execution_count": 81,
     "metadata": {},
     "output_type": "execute_result"
    }
   ],
   "source": [
    "b=m1"
   ]
  },
  {
   "cell_type": "code",
   "execution_count": 82,
   "metadata": {},
   "outputs": [
    {
     "data": {
      "text/plain": [
       "100"
      ]
     },
     "execution_count": 82,
     "metadata": {},
     "output_type": "execute_result"
    }
   ],
   "source": [
    "b[0][0]=100"
   ]
  },
  {
   "cell_type": "code",
   "execution_count": 83,
   "metadata": {},
   "outputs": [
    {
     "data": {
      "text/plain": [
       "[ [ 100, 2 ], [ 3, 4 ] ]"
      ]
     },
     "execution_count": 83,
     "metadata": {},
     "output_type": "execute_result"
    }
   ],
   "source": [
    "b"
   ]
  },
  {
   "cell_type": "code",
   "execution_count": 84,
   "metadata": {},
   "outputs": [
    {
     "data": {
      "text/plain": [
       "[ [ 100, 2 ], [ 3, 4 ] ]"
      ]
     },
     "execution_count": 84,
     "metadata": {},
     "output_type": "execute_result"
    }
   ],
   "source": [
    "m1"
   ]
  },
  {
   "cell_type": "code",
   "execution_count": 85,
   "metadata": {},
   "outputs": [
    {
     "data": {
      "text/plain": [
       "[ [ 1, 3 ], [ 0.3333333333333333, 1 ] ]"
      ]
     },
     "execution_count": 85,
     "metadata": {},
     "output_type": "execute_result"
    }
   ],
   "source": [
    "pw1 = [\n",
    "    [1, 3],\n",
    "    [1/3.0, 1]\n",
    "]"
   ]
  },
  {
   "cell_type": "code",
   "execution_count": 86,
   "metadata": {},
   "outputs": [
    {
     "data": {
      "text/plain": [
       "[ 0.75, 0.25 ]"
      ]
     },
     "execution_count": 86,
     "metadata": {},
     "output_type": "execute_result"
    }
   ],
   "source": [
    "largest_eigen(pw1)"
   ]
  },
  {
   "cell_type": "code",
   "execution_count": 87,
   "metadata": {},
   "outputs": [
    {
     "data": {
      "text/plain": [
       "false"
      ]
     },
     "execution_count": 87,
     "metadata": {},
     "output_type": "execute_result"
    }
   ],
   "source": [
    "max_diff([1, 2], [0, 0]) < 1e-5"
   ]
  },
  {
   "cell_type": "code",
   "execution_count": null,
   "metadata": {},
   "outputs": [],
   "source": []
  }
 ],
 "metadata": {
  "kernelspec": {
   "display_name": "Javascript (Node.js)",
   "language": "javascript",
   "name": "javascript"
  },
  "language_info": {
   "file_extension": ".js",
   "mimetype": "application/javascript",
   "name": "javascript",
   "version": "11.4.0"
  },
  "toc": {
   "base_numbering": 1,
   "nav_menu": {},
   "number_sections": true,
   "sideBar": true,
   "skip_h1_title": false,
   "title_cell": "Table of Contents",
   "title_sidebar": "Contents",
   "toc_cell": false,
   "toc_position": {},
   "toc_section_display": true,
   "toc_window_display": false
  }
 },
 "nbformat": 4,
 "nbformat_minor": 2
}
